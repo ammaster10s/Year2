{
 "cells": [
  {
   "cell_type": "code",
   "execution_count": null,
   "metadata": {},
   "outputs": [],
   "source": [
    "## Pizza\n",
    "print(\"welcome to pizza online ordering.\")\n",
    "print('please input \"y\" if you want to order, otherwise input \"n\"')\n",
    "price =0 \n",
    "menu1 = input(\"pizza? (price_359): \").upper()\n",
    "menu2 = input(\"chicken? (price_3 pieces for 199): \").upper()\n",
    "menu3 = input(\"pasta? (price_99): \").upper()\n",
    "menu4 = input(\"salad? (price_99): \").upper()\n",
    "menu5 = input(\"coke? (price_550 ml for 25):\").upper()\n",
    "if menu1 == \"Y\":\n",
    "    price+=359\n",
    "if menu1 ==\"N\":  price+=0\n",
    "if menu2 ==\"Y\":  price+=199\n",
    "if menu2 ==\"N\":  price+=0\n",
    "if menu3 ==\"Y\":  price+=99\n",
    "if menu3 ==\"N\":  price+=0\n",
    "if menu4 ==\"Y\":  price+=99\n",
    "if menu4 ==\"N\":  price+=0\n",
    "if menu5 ==\"Y\":  price+=25\n",
    "if menu5 ==\"N\":  price+=0\n",
    "              \n",
    "                  \n",
    "print(\" total price is %d\\nthanks\"%price)\n",
    "\n"
   ]
  },
  {
   "cell_type": "code",
   "execution_count": null,
   "metadata": {},
   "outputs": [],
   "source": [
    "## Feeling like\n",
    "like = 0\n",
    "sad =0\n",
    "heart =0\n",
    "total =0\n",
    "set =[]\n",
    "\n",
    "\n",
    "for i in range(1,11):\n",
    "    feels = str(input('Feeling Like (\"L\"), Sad (\"S\"), and Heart(\"H\")? '))\n",
    "    if feels in \"SHL\":\n",
    "        set+=feels\n",
    "    else:\n",
    "        print(\"Invalid input, accepts only (L/S/H).\")\n",
    "\n",
    "        \n",
    "like = set.count(\"L\")\n",
    "sad = set.count(\"S\")\n",
    "heart = set.count(\"H\")\n",
    "total = like+sad+heart\n",
    "\n",
    "print(\"============\")\n",
    "print(\"Total is %d\"%total)   \n",
    "print(\"============\")\n",
    "print(\"Like: %d (%.2f%%)\"%(like,like/total*100))\n",
    "print(\"Sad: %d (%.2f%%)\"%(sad,sad/total*100))\n",
    "print(\"Heart: %d (%.2f%%)\"%(heart,heart/total*100))"
   ]
  }
 ],
 "metadata": {
  "kernelspec": {
   "display_name": "Python 3",
   "language": "python",
   "name": "python3"
  },
  "language_info": {
   "name": "python",
   "version": "3.undefined.undefined"
  },
  "orig_nbformat": 4
 },
 "nbformat": 4,
 "nbformat_minor": 2
}
