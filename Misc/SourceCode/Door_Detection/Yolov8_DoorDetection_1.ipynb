{
  "nbformat": 4,
  "nbformat_minor": 0,
  "metadata": {
    "colab": {
      "provenance": []
    },
    "kernelspec": {
      "name": "python3",
      "display_name": "Python 3"
    },
    "language_info": {
      "name": "python"
    }
  },
  "cells": [
    {
      "cell_type": "code",
      "execution_count": null,
      "metadata": {
        "id": "ktvtVZ3TUyD6"
      },
      "outputs": [],
      "source": [
        "from google.colab import drive\n",
        "drive.mount('/content/gdrive')"
      ]
    },
    {
      "cell_type": "code",
      "source": [
        "!pip install ultralytics"
      ],
      "metadata": {
        "id": "RNE03dOt9PAr",
        "colab": {
          "base_uri": "https://localhost:8080/"
        },
        "outputId": "78cf715c-dc77-4b67-a33c-a32646b28eed"
      },
      "execution_count": null,
      "outputs": [
        {
          "output_type": "stream",
          "name": "stdout",
          "text": [
            "Requirement already satisfied: ultralytics in /usr/local/lib/python3.10/dist-packages (8.0.180)\n",
            "Requirement already satisfied: matplotlib>=3.2.2 in /usr/local/lib/python3.10/dist-packages (from ultralytics) (3.7.1)\n",
            "Requirement already satisfied: numpy>=1.22.2 in /usr/local/lib/python3.10/dist-packages (from ultralytics) (1.23.5)\n",
            "Requirement already satisfied: opencv-python>=4.6.0 in /usr/local/lib/python3.10/dist-packages (from ultralytics) (4.8.0.76)\n",
            "Requirement already satisfied: pillow>=7.1.2 in /usr/local/lib/python3.10/dist-packages (from ultralytics) (9.4.0)\n",
            "Requirement already satisfied: pyyaml>=5.3.1 in /usr/local/lib/python3.10/dist-packages (from ultralytics) (6.0.1)\n",
            "Requirement already satisfied: requests>=2.23.0 in /usr/local/lib/python3.10/dist-packages (from ultralytics) (2.31.0)\n",
            "Requirement already satisfied: scipy>=1.4.1 in /usr/local/lib/python3.10/dist-packages (from ultralytics) (1.11.2)\n",
            "Requirement already satisfied: torch>=1.8.0 in /usr/local/lib/python3.10/dist-packages (from ultralytics) (2.0.1+cu118)\n",
            "Requirement already satisfied: torchvision>=0.9.0 in /usr/local/lib/python3.10/dist-packages (from ultralytics) (0.15.2+cu118)\n",
            "Requirement already satisfied: tqdm>=4.64.0 in /usr/local/lib/python3.10/dist-packages (from ultralytics) (4.66.1)\n",
            "Requirement already satisfied: pandas>=1.1.4 in /usr/local/lib/python3.10/dist-packages (from ultralytics) (1.5.3)\n",
            "Requirement already satisfied: seaborn>=0.11.0 in /usr/local/lib/python3.10/dist-packages (from ultralytics) (0.12.2)\n",
            "Requirement already satisfied: psutil in /usr/local/lib/python3.10/dist-packages (from ultralytics) (5.9.5)\n",
            "Requirement already satisfied: py-cpuinfo in /usr/local/lib/python3.10/dist-packages (from ultralytics) (9.0.0)\n",
            "Requirement already satisfied: contourpy>=1.0.1 in /usr/local/lib/python3.10/dist-packages (from matplotlib>=3.2.2->ultralytics) (1.1.0)\n",
            "Requirement already satisfied: cycler>=0.10 in /usr/local/lib/python3.10/dist-packages (from matplotlib>=3.2.2->ultralytics) (0.11.0)\n",
            "Requirement already satisfied: fonttools>=4.22.0 in /usr/local/lib/python3.10/dist-packages (from matplotlib>=3.2.2->ultralytics) (4.42.1)\n",
            "Requirement already satisfied: kiwisolver>=1.0.1 in /usr/local/lib/python3.10/dist-packages (from matplotlib>=3.2.2->ultralytics) (1.4.5)\n",
            "Requirement already satisfied: packaging>=20.0 in /usr/local/lib/python3.10/dist-packages (from matplotlib>=3.2.2->ultralytics) (23.1)\n",
            "Requirement already satisfied: pyparsing>=2.3.1 in /usr/local/lib/python3.10/dist-packages (from matplotlib>=3.2.2->ultralytics) (3.1.1)\n",
            "Requirement already satisfied: python-dateutil>=2.7 in /usr/local/lib/python3.10/dist-packages (from matplotlib>=3.2.2->ultralytics) (2.8.2)\n",
            "Requirement already satisfied: pytz>=2020.1 in /usr/local/lib/python3.10/dist-packages (from pandas>=1.1.4->ultralytics) (2023.3.post1)\n",
            "Requirement already satisfied: charset-normalizer<4,>=2 in /usr/local/lib/python3.10/dist-packages (from requests>=2.23.0->ultralytics) (3.2.0)\n",
            "Requirement already satisfied: idna<4,>=2.5 in /usr/local/lib/python3.10/dist-packages (from requests>=2.23.0->ultralytics) (3.4)\n",
            "Requirement already satisfied: urllib3<3,>=1.21.1 in /usr/local/lib/python3.10/dist-packages (from requests>=2.23.0->ultralytics) (2.0.4)\n",
            "Requirement already satisfied: certifi>=2017.4.17 in /usr/local/lib/python3.10/dist-packages (from requests>=2.23.0->ultralytics) (2023.7.22)\n",
            "Requirement already satisfied: filelock in /usr/local/lib/python3.10/dist-packages (from torch>=1.8.0->ultralytics) (3.12.2)\n",
            "Requirement already satisfied: typing-extensions in /usr/local/lib/python3.10/dist-packages (from torch>=1.8.0->ultralytics) (4.5.0)\n",
            "Requirement already satisfied: sympy in /usr/local/lib/python3.10/dist-packages (from torch>=1.8.0->ultralytics) (1.12)\n",
            "Requirement already satisfied: networkx in /usr/local/lib/python3.10/dist-packages (from torch>=1.8.0->ultralytics) (3.1)\n",
            "Requirement already satisfied: jinja2 in /usr/local/lib/python3.10/dist-packages (from torch>=1.8.0->ultralytics) (3.1.2)\n",
            "Requirement already satisfied: triton==2.0.0 in /usr/local/lib/python3.10/dist-packages (from torch>=1.8.0->ultralytics) (2.0.0)\n",
            "Requirement already satisfied: cmake in /usr/local/lib/python3.10/dist-packages (from triton==2.0.0->torch>=1.8.0->ultralytics) (3.27.4.1)\n",
            "Requirement already satisfied: lit in /usr/local/lib/python3.10/dist-packages (from triton==2.0.0->torch>=1.8.0->ultralytics) (16.0.6)\n",
            "Requirement already satisfied: six>=1.5 in /usr/local/lib/python3.10/dist-packages (from python-dateutil>=2.7->matplotlib>=3.2.2->ultralytics) (1.16.0)\n",
            "Requirement already satisfied: MarkupSafe>=2.0 in /usr/local/lib/python3.10/dist-packages (from jinja2->torch>=1.8.0->ultralytics) (2.1.3)\n",
            "Requirement already satisfied: mpmath>=0.19 in /usr/local/lib/python3.10/dist-packages (from sympy->torch>=1.8.0->ultralytics) (1.3.0)\n"
          ]
        }
      ]
    },
    {
      "cell_type": "code",
      "source": [
        "import os\n",
        "import locale\n",
        "from ultralytics import YOLO"
      ],
      "metadata": {
        "id": "3Foq6V3-7RHF"
      },
      "execution_count": null,
      "outputs": []
    },
    {
      "cell_type": "code",
      "source": [
        "# Load a pretrained YOLOv8n model\n",
        "model = YOLO('best.pt')"
      ],
      "metadata": {
        "id": "8QP-wWVJ7Vj3"
      },
      "execution_count": null,
      "outputs": []
    },
    {
      "cell_type": "code",
      "source": [
        "model.predict('/content/gdrive/MyDrive/Prime/Display/20230915_173042_1.jpg', save=True, imgsz=320, conf=0.5) #ใส่ path ของรูป"
      ],
      "metadata": {
        "id": "mJWbfQUr9iua",
        "colab": {
          "base_uri": "https://localhost:8080/"
        },
        "outputId": "c7004304-7b14-461c-c561-44d679b4722e"
      },
      "execution_count": null,
      "outputs": [
        {
          "output_type": "stream",
          "name": "stderr",
          "text": [
            "\n",
            "image 1/1 /content/gdrive/MyDrive/Prime/Display/20230915_173042_1.jpg: 320x224 1 Front_Door, 61.9ms\n",
            "Speed: 1.4ms preprocess, 61.9ms inference, 0.9ms postprocess per image at shape (1, 3, 320, 224)\n",
            "Results saved to \u001b[1mruns/detect/predict\u001b[0m\n"
          ]
        },
        {
          "output_type": "execute_result",
          "data": {
            "text/plain": [
              "[ultralytics.engine.results.Results object with attributes:\n",
              " \n",
              " boxes: ultralytics.engine.results.Boxes object\n",
              " keypoints: None\n",
              " masks: None\n",
              " names: {0: 'Back_Door', 1: 'Exit_Door', 2: 'Front_Door', 3: 'Toilet_Door'}\n",
              " orig_img: array([[[ 85,  69,  57],\n",
              "         [ 87,  71,  59],\n",
              "         [ 87,  71,  59],\n",
              "         ...,\n",
              "         [ 85,  71,  59],\n",
              "         [ 85,  71,  59],\n",
              "         [ 86,  72,  60]],\n",
              " \n",
              "        [[ 81,  65,  53],\n",
              "         [ 82,  66,  54],\n",
              "         [ 82,  66,  54],\n",
              "         ...,\n",
              "         [ 85,  71,  59],\n",
              "         [ 82,  68,  56],\n",
              "         [ 80,  66,  54]],\n",
              " \n",
              "        [[ 79,  65,  53],\n",
              "         [ 80,  66,  54],\n",
              "         [ 80,  66,  54],\n",
              "         ...,\n",
              "         [ 81,  69,  57],\n",
              "         [ 80,  68,  56],\n",
              "         [ 77,  65,  53]],\n",
              " \n",
              "        ...,\n",
              " \n",
              "        [[139, 133, 126],\n",
              "         [137, 131, 124],\n",
              "         [139, 132, 123],\n",
              "         ...,\n",
              "         [ 56,  53,  49],\n",
              "         [ 53,  50,  46],\n",
              "         [ 49,  46,  42]],\n",
              " \n",
              "        [[142, 139, 131],\n",
              "         [143, 140, 132],\n",
              "         [147, 141, 134],\n",
              "         ...,\n",
              "         [ 53,  50,  46],\n",
              "         [ 52,  49,  45],\n",
              "         [ 51,  48,  44]],\n",
              " \n",
              "        [[153, 150, 145],\n",
              "         [158, 155, 147],\n",
              "         [168, 162, 155],\n",
              "         ...,\n",
              "         [ 47,  44,  40],\n",
              "         [ 54,  51,  47],\n",
              "         [ 58,  55,  51]]], dtype=uint8)\n",
              " orig_shape: (1353, 919)\n",
              " path: '/content/gdrive/MyDrive/Prime/Display/20230915_173042_1.jpg'\n",
              " probs: None\n",
              " save_dir: 'runs/detect/predict'\n",
              " speed: {'preprocess': 1.3780593872070312, 'inference': 61.8593692779541, 'postprocess': 0.8893013000488281}]"
            ]
          },
          "metadata": {},
          "execution_count": 20
        }
      ]
    },
    {
      "cell_type": "code",
      "source": [
        "# Run batched inference on a list of images\n",
        "#results = model(['/content/gdrive/MyDrive/Prime/Display/20230915_173042.jpg', '/content/gdrive/MyDrive/Prime/Display/20230915_173052.jpg','/content/gdrive/MyDrive/Prime/Display/20230915_173112.jpg'])  # return a list of Results objects\n",
        "\n",
        "# Process results list\n",
        "#for result in results:\n",
        "    #boxes = result.boxes  # Boxes object for bbox outputs"
      ],
      "metadata": {
        "colab": {
          "base_uri": "https://localhost:8080/"
        },
        "id": "t-lb8QIIlggP",
        "outputId": "29c46252-2c8a-4da6-c038-bb00031957b2"
      },
      "execution_count": null,
      "outputs": [
        {
          "output_type": "stream",
          "name": "stderr",
          "text": [
            "\n",
            "0: 640x480 1 Back_Door, 1: 640x480 1 Back_Door, 2: 640x480 1 Front_Door, 1086.0ms\n",
            "Speed: 22.4ms preprocess, 362.0ms inference, 17.2ms postprocess per image at shape (1, 3, 640, 480)\n"
          ]
        }
      ]
    },
    {
      "cell_type": "code",
      "source": [
        "def getpreferredencoding(do_setlocale = True):\n",
        "    return \"UTF-8\"\n",
        "locale.getpreferredencoding = getpreferredencoding"
      ],
      "metadata": {
        "id": "FRReTIwLhGkQ"
      },
      "execution_count": null,
      "outputs": []
    },
    {
      "cell_type": "code",
      "source": [
        "!scp -r /content/runs '/content/gdrive/MyDrive/Prime/Display'"
      ],
      "metadata": {
        "id": "qt14PO7C-gGy"
      },
      "execution_count": null,
      "outputs": []
    }
  ]
}