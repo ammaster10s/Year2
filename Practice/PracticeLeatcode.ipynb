{
 "cells": [
  {
   "cell_type": "code",
   "execution_count": null,
   "metadata": {},
   "outputs": [],
   "source": [
    "class Solution(object):\n",
    "    def maxDepth(self, s):\n",
    "        \"\"\"\n",
    "        :type s: str\n",
    "        :rtype: int\n",
    "        \"\"\"\n",
    "        MaxTemp = 0 \n",
    "        previousMax = 0 \n",
    "\n",
    "        for i in range(len(s)):\n",
    "            if i == \"(\" :\n",
    "                MaxTemp += 1\n",
    "            else:\n",
    "                previousMax = MaxTemp\n",
    "                MaxTemp = 0 \n",
    "        \n",
    "        return previousMax\n",
    "    \n",
    "\n",
    "    for i in \n",
    "            "
   ]
  },
  {
   "cell_type": "code",
   "execution_count": 2,
   "metadata": {},
   "outputs": [
    {
     "name": "stdout",
     "output_type": "stream",
     "text": [
      "H\n",
      "e\n",
      "l\n",
      "l\n",
      "o\n",
      "w\n",
      "r\n",
      "o\n",
      "l\n",
      "d\n",
      " \n",
      "+\n",
      " \n",
      "-\n",
      " \n",
      "*\n",
      " \n",
      "%\n",
      "y\n"
     ]
    }
   ],
   "source": [
    "x = \"Hellowrold + - * %y\"\n",
    "\n",
    "y= x.strip()  # Removes leading and trailing whitespace\n",
    "for i in x:\n",
    "    print(i)  # Use lowercase \"i\" instead of uppercase \"I\""
   ]
  },
  {
   "cell_type": "code",
   "execution_count": 6,
   "metadata": {},
   "outputs": [
    {
     "name": "stdout",
     "output_type": "stream",
     "text": [
      "0\n",
      "0\n",
      "1\n",
      "1\n",
      "0\n",
      "0\n",
      "0\n",
      "0\n",
      "1\n",
      "1\n",
      "0\n",
      "0\n",
      "0\n",
      "0\n"
     ]
    }
   ],
   "source": [
    "class Solution(object):\n",
    "    def maxDepth(self, s):\n",
    "        \"\"\"\n",
    "        :type s: str\n",
    "        :rtype: int\n",
    "        \"\"\"\n",
    "        MaxTemp = 0 \n",
    "        previousMax = {}\n",
    "        s = s.strip()\n",
    "        for i in s:\n",
    "            if i == \"(\" :\n",
    "                MaxTemp += 1\n",
    "                print(MaxTemp)\n",
    "                \n",
    "            else:\n",
    "                previousMax.append(MaxTemp)\n",
    "                MaxTemp = 0 \n",
    "                print(previousMax)\n",
    "        \n",
    "        return max(previousMax)\n",
    "            \n",
    "\n",
    "sol = Solution()\n",
    "print(sol.maxDepth(\"1+(2*3)/(2-1)\"))"
   ]
  },
  {
   "cell_type": "code",
   "execution_count": 18,
   "metadata": {},
   "outputs": [
    {
     "name": "stdout",
     "output_type": "stream",
     "text": [
      "[1, 2]\n"
     ]
    }
   ],
   "source": [
    "class Solution(object):\n",
    "    def twoSum(self, nums, target):\n",
    "        \"\"\"\n",
    "        :type nums: List[int]\n",
    "        :type target: int\n",
    "        :rtype: List[int]\n",
    "        \"\"\"\n",
    "        \n",
    "        for i in range(len(nums)):\n",
    "            for j in range(i+1, len(nums)):\n",
    "                if (i != j) and (nums[i] + nums[j] == target):\n",
    "                    return [i, j]\n",
    "\n",
    "sol = Solution()\n",
    "print(sol.twoSum([2,5,5,11],10))"
   ]
  },
  {
   "cell_type": "code",
   "execution_count": null,
   "metadata": {},
   "outputs": [],
   "source": [
    "class Solution(object):\n",
    "    def removeElement(self, nums, val):\n",
    "        \"\"\"\n",
    "        :type nums: List[int]\n",
    "        :type val: int\n",
    "        :rtype: int\n",
    "        \"\"\"\n",
    "        removed = 0\n",
    "        before = len(nums)\n",
    "        \n",
    "\n",
    "        while (nums.count(val)):\n",
    "            nums.remove(val)\n",
    "            removed += 1\n",
    "            \n",
    "\n",
    "        return before-removed"
   ]
  },
  {
   "cell_type": "code",
   "execution_count": null,
   "metadata": {},
   "outputs": [],
   "source": [
    "class Solution(object):\n",
    "    def convertTemperature(self, celsius):\n",
    "        \"\"\"\n",
    "        :type celsius: float\n",
    "        :rtype: List[float]\n",
    "        \"\"\"\n",
    "        Arr = [celsius + 273.15, celsius*1.80 +32.00]\n",
    "        return  Arr\n",
    "    \n",
    "sol = Solution()\n",
    "sol.convertTemperature(36.50)"
   ]
  },
  {
   "cell_type": "code",
   "execution_count": 3,
   "metadata": {},
   "outputs": [
    {
     "name": "stdout",
     "output_type": "stream",
     "text": [
      "342\n"
     ]
    }
   ],
   "source": [
    "class Solution(object):\n",
    "    def addTwoNumbers(self, l1, l2):\n",
    "        \"\"\"\n",
    "        :type l1: ListNode\n",
    "        :type l2: ListNode\n",
    "        :rtype: ListNode\n",
    "        \"\"\"\n",
    "        intl1 = int(''.join(map(str, [node.val for node in l1][::-1])))\n",
    "        intl2 = int(''.join(map(str, [node.val for node in l2][::-1])))\n",
    "        answer = intl1 + intl2\n",
    "        return list(map(int, str(answer)[::-1]))    \n",
    "\n",
    "sol = Solution()\n",
    "sol.addTwoNumbers([2,4,3],[5,6,4])"
   ]
  },
  {
   "cell_type": "code",
   "execution_count": 12,
   "metadata": {},
   "outputs": [
    {
     "name": "stdout",
     "output_type": "stream",
     "text": [
      "0 0 0\n"
     ]
    },
    {
     "data": {
      "text/plain": [
       "True"
      ]
     },
     "execution_count": 12,
     "metadata": {},
     "output_type": "execute_result"
    }
   ],
   "source": [
    "class Solution(object):\n",
    "    def isValid(self, s):\n",
    "        \"\"\"\n",
    "        :type s: str\n",
    "        :rtype: bool\n",
    "        \"\"\"\n",
    "        bracketcount1 = 0\n",
    "        bracketcount2 = 0\n",
    "        bracketcount3 = 0\n",
    "        \n",
    "        for char in s:\n",
    "            if char == \"(\":\n",
    "                bracketcount1 += 1\n",
    "            elif char == \")\":\n",
    "                bracketcount1 -= 1\n",
    "            elif char == \"[\":\n",
    "                bracketcount2 += 1\n",
    "            elif char == \"]\":\n",
    "                bracketcount2 -= 1\n",
    "            elif char == \"{\":\n",
    "                bracketcount3 += 1\n",
    "            elif char == \"}\":\n",
    "                bracketcount3 -= 1\n",
    "        print(bracketcount1, bracketcount2, bracketcount3)\n",
    "        if bracketcount1 == 0 and bracketcount2 == 0 and bracketcount3 == 0:\n",
    "            return True\n",
    "        else:\n",
    "            return False\n",
    "        \n",
    "sol = Solution()\n",
    "sol.isValid(\"([)]\")"
   ]
  },
  {
   "cell_type": "code",
   "execution_count": 14,
   "metadata": {},
   "outputs": [
    {
     "data": {
      "text/plain": [
       "True"
      ]
     },
     "execution_count": 14,
     "metadata": {},
     "output_type": "execute_result"
    }
   ],
   "source": [
    "class Solution(object):\n",
    "    def isValid(self, s):\n",
    "        \"\"\"\n",
    "        :type s: str\n",
    "        :rtype: bool\n",
    "        \"\"\"\n",
    "        Charstack = []\n",
    "\n",
    "        for i in range(len(s)):\n",
    "            \n",
    "                if len(Charstack) == 0:\n",
    "                    Charstack.append(s[i]) \n",
    "                elif(s[i] == \"(\" or s[i] == \"{\"  or s[i] == \"[\" ):\n",
    "                    Charstack.append(s[i])\n",
    "                elif(Charstack[-1] == \"(\" and s[i] == \")\"):\n",
    "                    Charstack.pop(-1)\n",
    "                elif(Charstack[-1] == \"[\" and s[i] == \"]\"):\n",
    "                    Charstack.pop(-1)\n",
    "                elif(Charstack[-1] == \"{\" and s[i] == \"}\"): \n",
    "                    Charstack.pop(-1)\n",
    "                else:\n",
    "                    return False\n",
    "            \n",
    "        if(len(Charstack) == 0):\n",
    "            return True\n",
    "        else:\n",
    "            return False\n",
    "\n",
    "sol = Solution()\n",
    "\n",
    "sol.isValid(\"{[]}\")"
   ]
  },
  {
   "cell_type": "code",
   "execution_count": 5,
   "metadata": {},
   "outputs": [
    {
     "ename": "IndexError",
     "evalue": "string index out of range",
     "output_type": "error",
     "traceback": [
      "\u001b[0;31m---------------------------------------------------------------------------\u001b[0m",
      "\u001b[0;31mIndexError\u001b[0m                                Traceback (most recent call last)",
      "Cell \u001b[0;32mIn[5], line 36\u001b[0m\n\u001b[1;32m     32\u001b[0m         \u001b[38;5;28;01mreturn\u001b[39;00m s\n\u001b[1;32m     35\u001b[0m sol \u001b[38;5;241m=\u001b[39m Solution()\n\u001b[0;32m---> 36\u001b[0m \u001b[43msol\u001b[49m\u001b[38;5;241;43m.\u001b[39;49m\u001b[43mminRemoveToMakeValid\u001b[49m\u001b[43m(\u001b[49m\u001b[38;5;124;43m\"\u001b[39;49m\u001b[38;5;124;43m))((\u001b[39;49m\u001b[38;5;124;43m\"\u001b[39;49m\u001b[43m)\u001b[49m\n",
      "Cell \u001b[0;32mIn[5], line 24\u001b[0m, in \u001b[0;36mSolution.minRemoveToMakeValid\u001b[0;34m(self, s)\u001b[0m\n\u001b[1;32m     22\u001b[0m \u001b[38;5;66;03m# Remove extra opening parentheses\u001b[39;00m\n\u001b[1;32m     23\u001b[0m \u001b[38;5;28;01mfor\u001b[39;00m i \u001b[38;5;129;01min\u001b[39;00m \u001b[38;5;28mrange\u001b[39m(\u001b[38;5;28mlen\u001b[39m(s)):\n\u001b[0;32m---> 24\u001b[0m     \u001b[38;5;28;01mif\u001b[39;00m \u001b[43ms\u001b[49m\u001b[43m[\u001b[49m\u001b[43mi\u001b[49m\u001b[43m]\u001b[49m \u001b[38;5;241m==\u001b[39m \u001b[38;5;124m\"\u001b[39m\u001b[38;5;124m(\u001b[39m\u001b[38;5;124m\"\u001b[39m:\n\u001b[1;32m     25\u001b[0m         cout \u001b[38;5;241m+\u001b[39m\u001b[38;5;241m=\u001b[39m \u001b[38;5;241m1\u001b[39m\n\u001b[1;32m     26\u001b[0m     \u001b[38;5;28;01melif\u001b[39;00m s[i] \u001b[38;5;241m==\u001b[39m \u001b[38;5;124m\"\u001b[39m\u001b[38;5;124m)\u001b[39m\u001b[38;5;124m\"\u001b[39m:\n",
      "\u001b[0;31mIndexError\u001b[0m: string index out of range"
     ]
    }
   ],
   "source": [
    "class Solution(object):\n",
    "    def minRemoveToMakeValid(self, s):\n",
    "        \"\"\"\n",
    "        :type s: str\n",
    "        :rtype: str\n",
    "        \"\"\"\n",
    "        cout = 0\n",
    "\n",
    "        # Remove extra closing parentheses\n",
    "        for i in range(len(s) - 1, -1, -1):\n",
    "            if s[i] == \")\":\n",
    "                cout += 1\n",
    "            elif s[i] == \"(\":\n",
    "                if cout == 0:\n",
    "                    s = s[:i] + s[i+1:]\n",
    "                else:\n",
    "                    cout -= 1\n",
    "\n",
    "        # Reset cout\n",
    "        cout = 0\n",
    "\n",
    "        # Remove extra opening parentheses\n",
    "        for i in range(len(s)):\n",
    "            if s[i] == \"(\":\n",
    "                cout += 1\n",
    "            elif s[i] == \")\":\n",
    "                if cout == 0:\n",
    "                    s = s[:i] + s[i+1:]\n",
    "                else:\n",
    "                    cout -= 1\n",
    "\n",
    "        return s\n",
    "    \n",
    "\n",
    "sol = Solution()\n",
    "sol.minRemoveToMakeValid(\"))((\")"
   ]
  },
  {
   "cell_type": "code",
   "execution_count": 14,
   "metadata": {},
   "outputs": [
    {
     "name": "stdout",
     "output_type": "stream",
     "text": [
      "0 l\n",
      "['l']\n",
      "1 e\n",
      "['l', 'e']\n",
      "2 e\n",
      "['l', 'e', 'e']\n",
      "3 (\n",
      "['l', 'e', 'e', '(']\n",
      "4 t\n",
      "['l', 'e', 'e', '(', 't']\n",
      "5 (\n",
      "['l', 'e', 'e', '(', 't', '(']\n",
      "6 c\n",
      "['l', 'e', 'e', '(', 't', '(', 'c']\n",
      "7 )\n",
      "['l', 'e', 'e', '(', 't', '(', 'c', ')']\n",
      "8 o\n",
      "['l', 'e', 'e', '(', 't', '(', 'c', ')', 'o']\n",
      "9 )\n",
      "['l', 'e', 'e', '(', 't', '(', 'c', ')', 'o', ')']\n",
      "10 d\n",
      "['l', 'e', 'e', '(', 't', '(', 'c', ')', 'o', ')', 'd']\n",
      "11 e\n",
      "['l', 'e', 'e', '(', 't', '(', 'c', ')', 'o', ')', 'd', 'e']\n",
      "12 )\n",
      "lee(t(c)o)de\n"
     ]
    }
   ],
   "source": [
    "class Solution(object):\n",
    "    \"\"\"\n",
    "    Class that represents a solution for the problem of removing parentheses to make a string valid.\n",
    "    \"\"\"\n",
    "\n",
    "    def minRemoveToMakeValid(self, s):\n",
    "        \"\"\"\n",
    "        Removes parentheses from the given string to make it valid.\n",
    "\n",
    "        Parameters:\n",
    "        - s (str): The input string.\n",
    "\n",
    "        Returns:\n",
    "        - str: The modified string with removed parentheses.\n",
    "\n",
    "        Example:\n",
    "        >>> solution = Solution()\n",
    "        >>> solution.minRemoveToMakeValid(\"lee(t(c)o)de)\")\n",
    "        'lee(t(c)o)de'\n",
    "        \"\"\"\n",
    "        stack = []\n",
    "        remove_indices = set()\n",
    "\n",
    "        # Identify indices of parentheses to remove\n",
    "        for i, char in enumerate(s):\n",
    "            if char == '(':\n",
    "                stack.append(i)\n",
    "            elif char == ')':\n",
    "                if stack:\n",
    "                    stack.pop()\n",
    "                else:\n",
    "                    remove_indices.add(i)\n",
    "\n",
    "        # Include remaining unmatched opening parentheses\n",
    "        \n",
    "        remove_indices.update(stack)\n",
    "        \n",
    "\n",
    "        # Build the final string without removed parentheses\n",
    "        result = []\n",
    "        \n",
    "        for i, char in enumerate(s):\n",
    "            print(i,char)\n",
    "            if i not in remove_indices:\n",
    "                result.append(char)\n",
    "                print(result)\n",
    "\n",
    "        return ''.join(result)\n",
    "\n",
    "sol = Solution()\n",
    "result = sol.minRemoveToMakeValid(\"lee(t(c)o)de)\")\n",
    "print(result)\n"
   ]
  },
  {
   "cell_type": "code",
   "execution_count": 31,
   "metadata": {},
   "outputs": [
    {
     "data": {
      "text/plain": [
       "1"
      ]
     },
     "execution_count": 31,
     "metadata": {},
     "output_type": "execute_result"
    }
   ],
   "source": [
    "class Solution(object):\n",
    "    def lengthOfLastWord(self, s):\n",
    "        \"\"\"\n",
    "        :type s: str\n",
    "        :rtype: int\n",
    "        \"\"\"\n",
    "        s = s.strip()\n",
    "        if not s:\n",
    "            return 0\n",
    "        s = s[::-1]\n",
    "        count = 0\n",
    "        for char in s:\n",
    "            if char == ' ':\n",
    "                break\n",
    "            count += 1\n",
    "        return count\n",
    "        \n",
    "sol = Solution()    \n",
    "sol.lengthOfLastWord(\"a\")"
   ]
  },
  {
   "cell_type": "code",
   "execution_count": 50,
   "metadata": {},
   "outputs": [
    {
     "data": {
      "text/plain": [
       "True"
      ]
     },
     "execution_count": 50,
     "metadata": {},
     "output_type": "execute_result"
    }
   ],
   "source": [
    "class Solution(object):\n",
    "    def exist(self, board, word):\n",
    "        \"\"\"\n",
    "        :type board: List[List[str]]\n",
    "        :type word: str\n",
    "        :rtype: bool\n",
    "        \"\"\"\n",
    "\n",
    "        result = set(sum(board, []))\n",
    "        word = set(word)\n",
    "        \n",
    "        if word.issubset(result):\n",
    "            return True\n",
    "        else:\n",
    "            return False\n",
    "\n",
    "        \n",
    "\n",
    "\n",
    "\n",
    "sol = Solution()\n",
    "sol.exist([[\"A\",\"B\",\"C\",\"E\"],[\"S\",\"F\",\"C\",\"S\"],[\"A\",\"D\",\"E\",\"E\"]], \"ABCCED\")"
   ]
  },
  {
   "cell_type": "code",
   "execution_count": 77,
   "metadata": {},
   "outputs": [
    {
     "name": "stdout",
     "output_type": "stream",
     "text": [
      "(\n",
      "*\n"
     ]
    },
    {
     "ename": "TypeError",
     "evalue": "'str' object does not support item assignment",
     "output_type": "error",
     "traceback": [
      "\u001b[0;31m---------------------------------------------------------------------------\u001b[0m",
      "\u001b[0;31mTypeError\u001b[0m                                 Traceback (most recent call last)",
      "Cell \u001b[0;32mIn[77], line 42\u001b[0m\n\u001b[1;32m     39\u001b[0m             \u001b[38;5;28;01mreturn\u001b[39;00m \u001b[38;5;28;01mFalse\u001b[39;00m\n\u001b[1;32m     41\u001b[0m sol \u001b[38;5;241m=\u001b[39mSolution()\n\u001b[0;32m---> 42\u001b[0m \u001b[43msol\u001b[49m\u001b[38;5;241;43m.\u001b[39;49m\u001b[43mcheckValidString\u001b[49m\u001b[43m(\u001b[49m\u001b[38;5;124;43m\"\u001b[39;49m\u001b[38;5;124;43m(*))\u001b[39;49m\u001b[38;5;124;43m\"\u001b[39;49m\u001b[43m)\u001b[49m\n",
      "Cell \u001b[0;32mIn[77], line 30\u001b[0m, in \u001b[0;36mSolution.checkValidString\u001b[0;34m(self, s)\u001b[0m\n\u001b[1;32m     27\u001b[0m     \u001b[38;5;28mself\u001b[39m\u001b[38;5;241m.\u001b[39mcheckValidString(s)\n\u001b[1;32m     29\u001b[0m \u001b[38;5;28;01melif\u001b[39;00m(countbraket \u001b[38;5;241m<\u001b[39m \u001b[38;5;241m0\u001b[39m \u001b[38;5;129;01mand\u001b[39;00m s[i] \u001b[38;5;241m==\u001b[39m \u001b[38;5;124m\"\u001b[39m\u001b[38;5;124m*\u001b[39m\u001b[38;5;124m\"\u001b[39m):\n\u001b[0;32m---> 30\u001b[0m     \u001b[43ms\u001b[49m\u001b[43m[\u001b[49m\u001b[43mi\u001b[49m\u001b[43m]\u001b[49m \u001b[38;5;241m=\u001b[39m \u001b[38;5;124m\"\u001b[39m\u001b[38;5;124m(\u001b[39m\u001b[38;5;124m\"\u001b[39m\n\u001b[1;32m     31\u001b[0m     \u001b[38;5;28mself\u001b[39m\u001b[38;5;241m.\u001b[39mcheckValidString(s)\n\u001b[1;32m     33\u001b[0m \u001b[38;5;28;01melse\u001b[39;00m:\n",
      "\u001b[0;31mTypeError\u001b[0m: 'str' object does not support item assignment"
     ]
    }
   ],
   "source": [
    "class Solution(object):\n",
    "    def checkValidString(self, s):\n",
    "        \"\"\"\n",
    "        :type s: str\n",
    "        :rtype: bool\n",
    "        \"\"\"\n",
    "        countbraket = s.count(\"(\") - s.count(\")\")\n",
    "        # print(countbraket)\n",
    "        Charstack = []\n",
    "        for i in range(len(s)):\n",
    "                print(s[i])\n",
    "                if len(Charstack) == 0:\n",
    "                    Charstack.append(s[i]) \n",
    "\n",
    "                # elif(s[i] == \"(\"  or s[i] == \"*\" ):\n",
    "                #     Charstack.append(s[i])\n",
    "\n",
    "                elif(Charstack[-1] == \"(\" and s[i] == \")\"):\n",
    "                    \n",
    "                    Charstack.pop(-1)\n",
    "\n",
    "                elif(countbraket == 0 and s[i] == \"*\"):\n",
    "                    continue\n",
    "\n",
    "                elif(countbraket > 0 and s[i] == \"*\"):\n",
    "                    s[i] = \")\"\n",
    "                    self.checkValidString(s)\n",
    "\n",
    "                elif(countbraket < 0 and s[i] == \"*\"):\n",
    "                    s[i] = \"(\"\n",
    "                    self.checkValidString(s)\n",
    "                \n",
    "                else:\n",
    "                    return False\n",
    "            \n",
    "        if (len(Charstack) == 0) or (countbraket == 0):\n",
    "            return True\n",
    "        else:\n",
    "            return False\n",
    "        \n",
    "sol =Solution()\n",
    "sol.checkValidString(\"(*))\")"
   ]
  },
  {
   "cell_type": "code",
   "execution_count": 86,
   "metadata": {},
   "outputs": [
    {
     "data": {
      "text/plain": [
       "True"
      ]
     },
     "execution_count": 86,
     "metadata": {},
     "output_type": "execute_result"
    }
   ],
   "source": [
    "class Solution(object):\n",
    "    def checkValidString(self, s):\n",
    "        \"\"\"\n",
    "        :type s: str\n",
    "        :rtype: bool\n",
    "        \"\"\"\n",
    "        open_parenthesis = []\n",
    "        asterisks = []\n",
    "        for i, char in enumerate(s):\n",
    "            if char == '(':\n",
    "                open_parenthesis.append(i)\n",
    "            elif char == '*':\n",
    "                asterisks.append(i)\n",
    "            else:  # char == ')'\n",
    "                if open_parenthesis:\n",
    "                    open_parenthesis.pop()\n",
    "                elif asterisks:\n",
    "                    asterisks.pop()\n",
    "                else:\n",
    "                    return False\n",
    "        while open_parenthesis:\n",
    "            if not asterisks:\n",
    "                return False\n",
    "            if open_parenthesis.pop() > asterisks.pop():\n",
    "                return False\n",
    "        return True\n",
    "\n",
    "    \n",
    "sol =Solution()\n",
    "sol.checkValidString(\"((*)))\")\n"
   ]
  },
  {
   "cell_type": "code",
   "execution_count": 125,
   "metadata": {},
   "outputs": [
    {
     "data": {
      "text/plain": [
       "'111110'"
      ]
     },
     "execution_count": 125,
     "metadata": {},
     "output_type": "execute_result"
    }
   ],
   "source": [
    "class Solution(object):\n",
    "    def addBinary(self, a, b):\n",
    "        \"\"\"\n",
    "        :type a: str\n",
    "        :type b: str\n",
    "        :rtype: str\n",
    "        \"\"\"\n",
    "        a = a.zfill(len(max(a,b)))\n",
    "        b = b.zfill(len(max(a,b)))\n",
    "\n",
    "        \n",
    "        C_out = 0\n",
    "        result = \"\"\n",
    "        \n",
    "\n",
    "        for i in range(len(a)-1,-1,-1):\n",
    "            \n",
    "            if (int(a[i]) + int(b[i]) +C_out == 2 ):\n",
    "                C_out = 1\n",
    "                result += \"0\"\n",
    "\n",
    "            elif (int(a[i]) + int(b[i]) +C_out == 3 ):\n",
    "                C_out = 1\n",
    "                result += \"1\"\n",
    "                    \n",
    "            else:\n",
    "                result += str(int(a[i]) + int(b[i]) +C_out)\n",
    "                C_out = 0\n",
    "                    \n",
    "                    \n",
    "        if (C_out == 1):\n",
    "            result += \"1\"\n",
    "       \n",
    "        \n",
    "        return result[::-1]\n",
    "            \n",
    "                \n",
    "\n",
    "\n",
    "sol= Solution()\n",
    "sol.addBinary(\"1111\",\"1111\") \n"
   ]
  },
  {
   "cell_type": "code",
   "execution_count": null,
   "metadata": {},
   "outputs": [],
   "source": []
  }
 ],
 "metadata": {
  "kernelspec": {
   "display_name": "Python 3",
   "language": "python",
   "name": "python3"
  },
  "language_info": {
   "codemirror_mode": {
    "name": "ipython",
    "version": 3
   },
   "file_extension": ".py",
   "mimetype": "text/x-python",
   "name": "python",
   "nbconvert_exporter": "python",
   "pygments_lexer": "ipython3",
   "version": "3.12.1"
  }
 },
 "nbformat": 4,
 "nbformat_minor": 2
}
