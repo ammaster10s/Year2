{
 "cells": [
  {
   "cell_type": "code",
   "execution_count": null,
   "metadata": {},
   "outputs": [],
   "source": [
    "class Solution(object):\n",
    "    def maxDepth(self, s):\n",
    "        \"\"\"\n",
    "        :type s: str\n",
    "        :rtype: int\n",
    "        \"\"\"\n",
    "        MaxTemp = 0 \n",
    "        previousMax = 0 \n",
    "\n",
    "        for i in range(len(s)):\n",
    "            if i == \"(\" :\n",
    "                MaxTemp += 1\n",
    "            else:\n",
    "                previousMax = MaxTemp\n",
    "                MaxTemp = 0 \n",
    "        \n",
    "        return previousMax\n",
    "    \n",
    "\n",
    "    for i in \n",
    "            "
   ]
  },
  {
   "cell_type": "code",
   "execution_count": 2,
   "metadata": {},
   "outputs": [
    {
     "name": "stdout",
     "output_type": "stream",
     "text": [
      "H\n",
      "e\n",
      "l\n",
      "l\n",
      "o\n",
      "w\n",
      "r\n",
      "o\n",
      "l\n",
      "d\n",
      " \n",
      "+\n",
      " \n",
      "-\n",
      " \n",
      "*\n",
      " \n",
      "%\n",
      "y\n"
     ]
    }
   ],
   "source": [
    "x = \"Hellowrold + - * %y\"\n",
    "\n",
    "y= x.strip()  # Removes leading and trailing whitespace\n",
    "for i in x:\n",
    "    print(i)  # Use lowercase \"i\" instead of uppercase \"I\""
   ]
  },
  {
   "cell_type": "code",
   "execution_count": 6,
   "metadata": {},
   "outputs": [
    {
     "name": "stdout",
     "output_type": "stream",
     "text": [
      "0\n",
      "0\n",
      "1\n",
      "1\n",
      "0\n",
      "0\n",
      "0\n",
      "0\n",
      "1\n",
      "1\n",
      "0\n",
      "0\n",
      "0\n",
      "0\n"
     ]
    }
   ],
   "source": [
    "class Solution(object):\n",
    "    def maxDepth(self, s):\n",
    "        \"\"\"\n",
    "        :type s: str\n",
    "        :rtype: int\n",
    "        \"\"\"\n",
    "        MaxTemp = 0 \n",
    "        previousMax = {}\n",
    "        s = s.strip()\n",
    "        for i in s:\n",
    "            if i == \"(\" :\n",
    "                MaxTemp += 1\n",
    "                print(MaxTemp)\n",
    "                \n",
    "            else:\n",
    "                previousMax.append(MaxTemp)\n",
    "                MaxTemp = 0 \n",
    "                print(previousMax)\n",
    "        \n",
    "        return max(previousMax)\n",
    "            \n",
    "\n",
    "sol = Solution()\n",
    "print(sol.maxDepth(\"1+(2*3)/(2-1)\"))"
   ]
  },
  {
   "cell_type": "code",
   "execution_count": 18,
   "metadata": {},
   "outputs": [
    {
     "name": "stdout",
     "output_type": "stream",
     "text": [
      "[1, 2]\n"
     ]
    }
   ],
   "source": [
    "class Solution(object):\n",
    "    def twoSum(self, nums, target):\n",
    "        \"\"\"\n",
    "        :type nums: List[int]\n",
    "        :type target: int\n",
    "        :rtype: List[int]\n",
    "        \"\"\"\n",
    "        \n",
    "        for i in range(len(nums)):\n",
    "            for j in range(i+1, len(nums)):\n",
    "                if (i != j) and (nums[i] + nums[j] == target):\n",
    "                    return [i, j]\n",
    "\n",
    "sol = Solution()\n",
    "print(sol.twoSum([2,5,5,11],10))"
   ]
  },
  {
   "cell_type": "code",
   "execution_count": null,
   "metadata": {},
   "outputs": [],
   "source": []
  }
 ],
 "metadata": {
  "kernelspec": {
   "display_name": "Python 3",
   "language": "python",
   "name": "python3"
  },
  "language_info": {
   "codemirror_mode": {
    "name": "ipython",
    "version": 3
   },
   "file_extension": ".py",
   "mimetype": "text/x-python",
   "name": "python",
   "nbconvert_exporter": "python",
   "pygments_lexer": "ipython3",
   "version": "3.12.1"
  }
 },
 "nbformat": 4,
 "nbformat_minor": 2
}
